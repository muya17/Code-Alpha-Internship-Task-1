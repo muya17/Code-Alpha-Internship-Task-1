{
 "cells": [
  {
   "cell_type": "code",
   "execution_count": 1,
   "id": "cbf24fe1-d40f-4854-a871-75a3931786d5",
   "metadata": {},
   "outputs": [],
   "source": [
    "def fibonacci(n):\n",
    "# n represents the position of the number in the Fibonacci sequence,     \n",
    "    if n>1:\n",
    "        return fibonacci(n-1) + fibonacci(n-2)\n",
    "    elif n==1:\n",
    "        return 1\n",
    "    else:\n",
    "        return 0\n",
    "        "
   ]
  },
  {
   "cell_type": "code",
   "execution_count": 5,
   "id": "4960ed3c-6129-4fc0-a736-00e484520961",
   "metadata": {},
   "outputs": [
    {
     "name": "stdout",
     "output_type": "stream",
     "text": [
      "0\n",
      "1\n",
      "1\n",
      "2\n",
      "3\n",
      "5\n",
      "8\n"
     ]
    }
   ],
   "source": [
    "# Test case\n",
    "for i in range(7):\n",
    "    print(fibonacci(i))"
   ]
  },
  {
   "cell_type": "code",
   "execution_count": null,
   "id": "731c77e5-e542-42aa-b183-4e936fa097b9",
   "metadata": {},
   "outputs": [],
   "source": []
  }
 ],
 "metadata": {
  "kernelspec": {
   "display_name": "Python 3 (ipykernel)",
   "language": "python",
   "name": "python3"
  },
  "language_info": {
   "codemirror_mode": {
    "name": "ipython",
    "version": 3
   },
   "file_extension": ".py",
   "mimetype": "text/x-python",
   "name": "python",
   "nbconvert_exporter": "python",
   "pygments_lexer": "ipython3",
   "version": "3.11.7"
  }
 },
 "nbformat": 4,
 "nbformat_minor": 5
}
